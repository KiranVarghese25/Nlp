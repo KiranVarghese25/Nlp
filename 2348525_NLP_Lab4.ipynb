{
  "nbformat": 4,
  "nbformat_minor": 0,
  "metadata": {
    "colab": {
      "provenance": [],
      "authorship_tag": "ABX9TyM9d+ctNb0ZMWZaca0nqm1V",
      "include_colab_link": true
    },
    "kernelspec": {
      "name": "python3",
      "display_name": "Python 3"
    },
    "language_info": {
      "name": "python"
    }
  },
  "cells": [
    {
      "cell_type": "markdown",
      "metadata": {
        "id": "view-in-github",
        "colab_type": "text"
      },
      "source": [
        "<a href=\"https://colab.research.google.com/github/KiranVarghese25/Nlp/blob/main/2348525_NLP_Lab4.ipynb\" target=\"_parent\"><img src=\"https://colab.research.google.com/assets/colab-badge.svg\" alt=\"Open In Colab\"/></a>"
      ]
    },
    {
      "cell_type": "markdown",
      "source": [
        "#QUESTION\n",
        "1. Write a program to get synonyms from WordNet. (5 words minimum for all the sub questions, for\n",
        "instance: - bear, set, square, lead, criteria)\n",
        "a) Find the 3rd meaning of the word in the list.\n",
        "b) Extract the nouns of the word from the synonyms list.\n",
        "c) Extract the verbs of the word from the synonyms list.\n",
        "d) Extract the adjectives of the word from the synonyms list.\n",
        "e) Extract the adverbs of the word from the synonyms list.\n",
        "f) Extract the definition of the word. (For instance, ‘Bear’ - massive plantigrade carnivorous or\n",
        "omnivorous mammals with long shaggy coats and strong claws)\n",
        "g) Find the hypernyms of each word.\n",
        "h) Find the hyponyms of each word.\n",
        "i) Find the similarities of any two hyponyms of a word."
      ],
      "metadata": {
        "id": "ghVzoJBDsUbS"
      }
    },
    {
      "cell_type": "code",
      "execution_count": 1,
      "metadata": {
        "id": "C_ypKZFdsHkv",
        "colab": {
          "base_uri": "https://localhost:8080/"
        },
        "outputId": "5e3b4cf6-9f2c-48c0-badc-d773e959e0d2"
      },
      "outputs": [
        {
          "output_type": "stream",
          "name": "stderr",
          "text": [
            "[nltk_data] Downloading package wordnet to /root/nltk_data...\n"
          ]
        },
        {
          "output_type": "execute_result",
          "data": {
            "text/plain": [
              "True"
            ]
          },
          "metadata": {},
          "execution_count": 1
        }
      ],
      "source": [
        "#Libraries\n",
        "import nltk\n",
        "from nltk.corpus import wordnet\n",
        "nltk.download('wordnet')"
      ]
    },
    {
      "cell_type": "code",
      "source": [
        "#Declaring the words\n",
        "words = [\"bear\", \"set\", \"square\", \"lead\", \"criteria\"]"
      ],
      "metadata": {
        "id": "JF0xIXETwlUx"
      },
      "execution_count": 2,
      "outputs": []
    },
    {
      "cell_type": "code",
      "source": [
        "for word in words:\n",
        "    print(\"\\nWord:\", word)\n",
        "\n",
        "    # Get synonyms\n",
        "    synsets = wordnet.synsets(word)\n",
        "\n",
        "    # Find the 3rd meaning of the word\n",
        "    if len(synsets) >= 3:\n",
        "        third_meaning = synsets[2]\n",
        "        print(\"a) 3rd meaning:\", third_meaning.definition())\n",
        "    else:\n",
        "        print(\"a) Word does not have 3 meanings.\")\n",
        "\n",
        "    # Extract nouns\n",
        "    nouns = [synonym for synonym in synsets if synonym.pos() == 'n']\n",
        "    print(\"b) Nouns:\", [noun.name().split('.')[0] for noun in nouns])\n",
        "\n",
        "    # Extract verbs\n",
        "    verbs = [synonym for synonym in synsets if synonym.pos() == 'v']\n",
        "    print(\"c) Verbs:\", [verb.name().split('.')[0] for verb in verbs])\n",
        "\n",
        "    # Extract adjectives\n",
        "    adjectives = [synonym for synonym in synsets if synonym.pos() == 'a']\n",
        "    print(\"d) Adjectives:\", [adjective.name().split('.')[0] for adjective in adjectives])\n",
        "\n",
        "    # Extract adverbs\n",
        "    adverbs = [synonym for synonym in synsets if synonym.pos() == 'r']\n",
        "    print(\"e) Adverbs:\", [adverb.name().split('.')[0] for adverb in adverbs])\n",
        "\n",
        "    # Definition of the word\n",
        "    print(\"f) Definition:\", synsets[0].definition())\n",
        "\n",
        "    # Hypernyms\n",
        "    hypernyms = synsets[0].hypernyms()\n",
        "    print(\"g) Hypernyms:\", [hypernym.name().split('.')[0] for hypernym in hypernyms])\n",
        "\n",
        "    # Hyponyms\n",
        "    hyponyms = synsets[0].hyponyms()\n",
        "    print(\"h) Hyponyms:\", [hyponym.name().split('.')[0] for hyponym in hyponyms])\n",
        "\n",
        "    # Similarities of any two hyponyms\n",
        "    if len(hyponyms) >= 2:\n",
        "        similarity = hyponyms[0].path_similarity(hyponyms[1])\n",
        "        print(\"i) Similarity between {} and {}: {}\".format(hyponyms[0].name().split('.')[0], hyponyms[1].name().split('.')[0], similarity))\n",
        "    else:\n",
        "        print(\"i) Insufficient hyponyms to calculate similarity.\")\n"
      ],
      "metadata": {
        "colab": {
          "base_uri": "https://localhost:8080/"
        },
        "id": "qkE9B7_2wp5o",
        "outputId": "e23ce932-2ceb-4835-c36a-8f2774b6355e"
      },
      "execution_count": 3,
      "outputs": [
        {
          "output_type": "stream",
          "name": "stdout",
          "text": [
            "\n",
            "Word: bear\n",
            "a) 3rd meaning: have\n",
            "b) Nouns: ['bear', 'bear']\n",
            "c) Verbs: ['bear', 'give_birth', 'digest', 'bear', 'bear', 'bear', 'hold', 'yield', 'wear', 'behave', 'bear', 'hold', 'have_a_bun_in_the_oven']\n",
            "d) Adjectives: []\n",
            "e) Adverbs: []\n",
            "f) Definition: massive plantigrade carnivorous or omnivorous mammals with long shaggy coats and strong claws\n",
            "g) Hypernyms: ['carnivore']\n",
            "h) Hyponyms: ['american_black_bear', 'asiatic_black_bear', 'bear_cub', 'brown_bear', 'bruin', 'ice_bear', 'sloth_bear']\n",
            "i) Similarity between american_black_bear and asiatic_black_bear: 0.3333333333333333\n",
            "\n",
            "Word: set\n",
            "a) 3rd meaning: several exercises intended to be done in series\n",
            "b) Nouns: ['set', 'set', 'set', 'stage_set', 'set', 'bent', 'set', 'set', 'hardening', 'set', 'set', 'set', 'set']\n",
            "c) Verbs: ['put', 'determine', 'specify', 'set', 'set', 'set', 'fix', 'set', 'set', 'set', 'arrange', 'plant', 'set', 'jell', 'typeset', 'set', 'set', 'set', 'sic', 'place', 'rig', 'set_up', 'adjust', 'fructify', 'dress']\n",
            "d) Adjectives: []\n",
            "e) Adverbs: []\n",
            "f) Definition: a group of things of the same kind that belong together and are so used\n",
            "g) Hypernyms: ['collection']\n",
            "h) Hyponyms: ['bracket', 'chess_set', 'choir', 'conjugation', 'core', 'dentition', 'field', 'field', 'field', 'intersection', 'manicure_set', 'octet', 'pair', 'portfolio', 'quartet', 'quintet', 'score', 'septet', 'sextet', 'singleton', 'suite', 'synset', 'threescore', 'trio', 'union']\n",
            "i) Similarity between bracket and chess_set: 0.3333333333333333\n",
            "\n",
            "Word: square\n",
            "a) 3rd meaning: an open area at the meeting of two or more streets\n",
            "b) Nouns: ['square', 'square', 'public_square', 'square', 'square', 'square', 'square', 'square']\n",
            "c) Verbs: ['square', 'square', 'square', 'square', 'square', 'square', 'feather', 'feather']\n",
            "d) Adjectives: ['square', 'straight']\n",
            "e) Adverbs: ['squarely', 'squarely', 'squarely']\n",
            "f) Definition: (geometry) a plane rectangle with four equal sides and four right angles; a four-sided regular polygon\n",
            "g) Hypernyms: ['rectangle', 'regular_polygon']\n",
            "h) Hyponyms: ['quadrate']\n",
            "i) Insufficient hyponyms to calculate similarity.\n",
            "\n",
            "Word: lead\n",
            "a) 3rd meaning: evidence pointing to a possible solution\n",
            "b) Nouns: ['lead', 'lead', 'lead', 'lead', 'lead', 'lead', 'lead', 'star', 'lead', 'tip', 'lead', 'spark_advance', 'leash', 'lead', 'lead', 'jumper_cable', 'lead']\n",
            "c) Verbs: ['lead', 'leave', 'lead', 'lead', 'lead', 'run', 'head', 'lead', 'contribute', 'conduct', 'go', 'precede', 'run', 'moderate']\n",
            "d) Adjectives: []\n",
            "e) Adverbs: []\n",
            "f) Definition: an advantage held by a competitor in a race\n",
            "g) Hypernyms: ['advantage']\n",
            "h) Hyponyms: []\n",
            "i) Insufficient hyponyms to calculate similarity.\n",
            "\n",
            "Word: criteria\n",
            "a) Word does not have 3 meanings.\n",
            "b) Nouns: ['standard', 'criterion']\n",
            "c) Verbs: []\n",
            "d) Adjectives: []\n",
            "e) Adverbs: []\n",
            "f) Definition: a basis for comparison; a reference point against which other things can be evaluated\n",
            "g) Hypernyms: ['system_of_measurement']\n",
            "h) Hyponyms: ['baseline', 'benchmark', 'earned_run_average', 'gauge', 'grade_point_average', 'medium_of_exchange', 'norm', 'procrustean_standard', 'scale', 'yardstick']\n",
            "i) Similarity between baseline and benchmark: 0.3333333333333333\n"
          ]
        }
      ]
    }
  ]
}