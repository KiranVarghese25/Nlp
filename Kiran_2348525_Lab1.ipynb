{
  "nbformat": 4,
  "nbformat_minor": 0,
  "metadata": {
    "colab": {
      "provenance": [],
      "gpuType": "T4",
      "authorship_tag": "ABX9TyOIdglEF5xswwUeSWbZXlUH",
      "include_colab_link": true
    },
    "kernelspec": {
      "name": "python3",
      "display_name": "Python 3"
    },
    "language_info": {
      "name": "python"
    },
    "accelerator": "GPU"
  },
  "cells": [
    {
      "cell_type": "markdown",
      "metadata": {
        "id": "view-in-github",
        "colab_type": "text"
      },
      "source": [
        "<a href=\"https://colab.research.google.com/github/KiranVarghese25/Nlp/blob/main/Kiran_2348525_Lab1.ipynb\" target=\"_parent\"><img src=\"https://colab.research.google.com/assets/colab-badge.svg\" alt=\"Open In Colab\"/></a>"
      ]
    },
    {
      "cell_type": "markdown",
      "source": [
        "##QUESTION\n",
        "Q) Write a paragraph based on your interested Domain and that should incorporate the\n",
        "special characters, punctuations, stop words, negation (don’t) and emojis (try to add\n",
        "more than one emoji contiguously in sentence). Perform the following types\n",
        "of Tokenization and utilize the Python libraries to tokenize:\n",
        "\n",
        "\n",
        "*   a. Word Tokenization\n",
        "*   Sentence Tokenization\n",
        "*   Punctuation-based Tokenizer\n",
        "*  Treebank Word tokenizer\n",
        "*  Tweet Tokenizer\n",
        "*   Multi-Word Expression Tokenizer\n",
        "*  TextBlob Word Tokenize\n",
        "*   spaCy Tokenizer\n",
        "*   Gensim word tokenizer\n",
        "*  Tokenization with Keras\n",
        "\n",
        "\n",
        "\n",
        "\n",
        "\n",
        "\n",
        "\n",
        "\n",
        "\n",
        "\n",
        "\n",
        "\n"
      ],
      "metadata": {
        "id": "ByxKUfsXqi7N"
      }
    },
    {
      "cell_type": "code",
      "execution_count": 1,
      "metadata": {
        "id": "2kYkY7mKqRh5",
        "colab": {
          "base_uri": "https://localhost:8080/"
        },
        "outputId": "3c20a2fb-86c6-4759-ec65-3a0f58b98ed2"
      },
      "outputs": [
        {
          "output_type": "stream",
          "name": "stderr",
          "text": [
            "[nltk_data] Downloading package punkt to /root/nltk_data...\n",
            "[nltk_data]   Unzipping tokenizers/punkt.zip.\n",
            "[nltk_data] Downloading package averaged_perceptron_tagger to\n",
            "[nltk_data]     /root/nltk_data...\n",
            "[nltk_data]   Unzipping taggers/averaged_perceptron_tagger.zip.\n"
          ]
        }
      ],
      "source": [
        "#Libraries\n",
        "import nltk\n",
        "nltk.download('punkt')\n",
        "from nltk.tokenize import word_tokenize, sent_tokenize\n",
        "nltk.download('averaged_perceptron_tagger')\n",
        "from nltk.tokenize import TreebankWordTokenizer\n",
        "from nltk.tokenize import TweetTokenizer\n",
        "from nltk.tokenize import MWETokenizer\n",
        "from textblob import TextBlob\n",
        "import spacy\n",
        "from gensim.utils import tokenize\n",
        "from keras.preprocessing.text import Tokenizer\n",
        "from keras.preprocessing.text import text_to_word_sequence"
      ]
    },
    {
      "cell_type": "code",
      "source": [
        "#User input\n",
        "user_input=input(\"Enter the Paragraph\")\n",
        "print(\"The Paragraph is as follows:- \")\n",
        "print(user_input)"
      ],
      "metadata": {
        "id": "5-z8GGZFrgTe",
        "colab": {
          "base_uri": "https://localhost:8080/"
        },
        "outputId": "f001a5a5-e6ec-4515-8f9e-8ee29ec62602"
      },
      "execution_count": 2,
      "outputs": [
        {
          "output_type": "stream",
          "name": "stdout",
          "text": [
            "Enter the ParagraphIn the realm of healthcare, navigating the complexities of patient well-being is paramount. With advancements in medical technology and an ever-evolving understanding of human physiology, the landscape of healthcare is continuously shifting. However, amidst the flurry of innovation and progress, the human touch remains irreplaceable. Care providers strive not only to treat ailments but also to cultivate a sense of empathy and trust in their patients. It's a delicate dance between science and compassion, where every diagnosis, every treatment plan, is imbued with the hope of a healthier tomorrow. Yet, amidst the triumphs, challenges persist. From the daunting specter of chronic diseases to the pressing need for mental health support, the healthcare industry grapples with multifaceted issues. But even in moments of uncertainty, the resilience of the human spirit shines through. Patients and caregivers alike band together, facing adversity head-on, refusing to succumb to despair. It's a testament to the indomitable nature of the human spirit—a beacon of hope amidst the stormy seas of illness and affliction. And in this journey towards wellness, each step forward, no matter how small, is a victory worth celebrating. 💉🏥💪\n",
            "The Paragraph is as follows:- \n",
            "In the realm of healthcare, navigating the complexities of patient well-being is paramount. With advancements in medical technology and an ever-evolving understanding of human physiology, the landscape of healthcare is continuously shifting. However, amidst the flurry of innovation and progress, the human touch remains irreplaceable. Care providers strive not only to treat ailments but also to cultivate a sense of empathy and trust in their patients. It's a delicate dance between science and compassion, where every diagnosis, every treatment plan, is imbued with the hope of a healthier tomorrow. Yet, amidst the triumphs, challenges persist. From the daunting specter of chronic diseases to the pressing need for mental health support, the healthcare industry grapples with multifaceted issues. But even in moments of uncertainty, the resilience of the human spirit shines through. Patients and caregivers alike band together, facing adversity head-on, refusing to succumb to despair. It's a testament to the indomitable nature of the human spirit—a beacon of hope amidst the stormy seas of illness and affliction. And in this journey towards wellness, each step forward, no matter how small, is a victory worth celebrating. 💉🏥💪\n"
          ]
        }
      ]
    },
    {
      "cell_type": "code",
      "source": [
        "#converting the text to lower case\n",
        "lower_case_text= user_input.lower()\n",
        "print(lower_case_text)"
      ],
      "metadata": {
        "colab": {
          "base_uri": "https://localhost:8080/"
        },
        "id": "dMmGg5rkYkqz",
        "outputId": "411aadb1-88e1-495f-e1a4-ad37046e591a"
      },
      "execution_count": 3,
      "outputs": [
        {
          "output_type": "stream",
          "name": "stdout",
          "text": [
            "in the realm of healthcare, navigating the complexities of patient well-being is paramount. with advancements in medical technology and an ever-evolving understanding of human physiology, the landscape of healthcare is continuously shifting. however, amidst the flurry of innovation and progress, the human touch remains irreplaceable. care providers strive not only to treat ailments but also to cultivate a sense of empathy and trust in their patients. it's a delicate dance between science and compassion, where every diagnosis, every treatment plan, is imbued with the hope of a healthier tomorrow. yet, amidst the triumphs, challenges persist. from the daunting specter of chronic diseases to the pressing need for mental health support, the healthcare industry grapples with multifaceted issues. but even in moments of uncertainty, the resilience of the human spirit shines through. patients and caregivers alike band together, facing adversity head-on, refusing to succumb to despair. it's a testament to the indomitable nature of the human spirit—a beacon of hope amidst the stormy seas of illness and affliction. and in this journey towards wellness, each step forward, no matter how small, is a victory worth celebrating. 💉🏥💪\n"
          ]
        }
      ]
    },
    {
      "cell_type": "code",
      "source": [
        "#Word Tokenization\n",
        "w_token=[]\n",
        "w_token=word_tokenize(lower_case_text)\n",
        "print(w_token)"
      ],
      "metadata": {
        "colab": {
          "base_uri": "https://localhost:8080/"
        },
        "id": "IaCpB0jTbmhf",
        "outputId": "808f570b-1495-43f1-f735-6c742ed0a8db"
      },
      "execution_count": 4,
      "outputs": [
        {
          "output_type": "stream",
          "name": "stdout",
          "text": [
            "['in', 'the', 'realm', 'of', 'healthcare', ',', 'navigating', 'the', 'complexities', 'of', 'patient', 'well-being', 'is', 'paramount', '.', 'with', 'advancements', 'in', 'medical', 'technology', 'and', 'an', 'ever-evolving', 'understanding', 'of', 'human', 'physiology', ',', 'the', 'landscape', 'of', 'healthcare', 'is', 'continuously', 'shifting', '.', 'however', ',', 'amidst', 'the', 'flurry', 'of', 'innovation', 'and', 'progress', ',', 'the', 'human', 'touch', 'remains', 'irreplaceable', '.', 'care', 'providers', 'strive', 'not', 'only', 'to', 'treat', 'ailments', 'but', 'also', 'to', 'cultivate', 'a', 'sense', 'of', 'empathy', 'and', 'trust', 'in', 'their', 'patients', '.', 'it', \"'s\", 'a', 'delicate', 'dance', 'between', 'science', 'and', 'compassion', ',', 'where', 'every', 'diagnosis', ',', 'every', 'treatment', 'plan', ',', 'is', 'imbued', 'with', 'the', 'hope', 'of', 'a', 'healthier', 'tomorrow', '.', 'yet', ',', 'amidst', 'the', 'triumphs', ',', 'challenges', 'persist', '.', 'from', 'the', 'daunting', 'specter', 'of', 'chronic', 'diseases', 'to', 'the', 'pressing', 'need', 'for', 'mental', 'health', 'support', ',', 'the', 'healthcare', 'industry', 'grapples', 'with', 'multifaceted', 'issues', '.', 'but', 'even', 'in', 'moments', 'of', 'uncertainty', ',', 'the', 'resilience', 'of', 'the', 'human', 'spirit', 'shines', 'through', '.', 'patients', 'and', 'caregivers', 'alike', 'band', 'together', ',', 'facing', 'adversity', 'head-on', ',', 'refusing', 'to', 'succumb', 'to', 'despair', '.', 'it', \"'s\", 'a', 'testament', 'to', 'the', 'indomitable', 'nature', 'of', 'the', 'human', 'spirit—a', 'beacon', 'of', 'hope', 'amidst', 'the', 'stormy', 'seas', 'of', 'illness', 'and', 'affliction', '.', 'and', 'in', 'this', 'journey', 'towards', 'wellness', ',', 'each', 'step', 'forward', ',', 'no', 'matter', 'how', 'small', ',', 'is', 'a', 'victory', 'worth', 'celebrating', '.', '💉🏥💪']\n"
          ]
        }
      ]
    },
    {
      "cell_type": "markdown",
      "source": [
        "#Word Tokenization\n",
        "Word tokenization divides text into individual words or tokens. It's a fundamental step in natural language processing (NLP) tasks like text analysis, sentiment analysis, and machine translation. Applications include text classification, named entity recognition, and text summarization."
      ],
      "metadata": {
        "id": "vyHF3wA8Zlfb"
      }
    },
    {
      "cell_type": "code",
      "source": [
        "#Sentence Tokenization\n",
        "sentences=[]\n",
        "sentences=sent_tokenize(lower_case_text)\n",
        "sentences"
      ],
      "metadata": {
        "colab": {
          "base_uri": "https://localhost:8080/"
        },
        "id": "EGL0zLuyby8D",
        "outputId": "f75560de-c3bb-4c22-b19f-0adf5d9586be"
      },
      "execution_count": 5,
      "outputs": [
        {
          "output_type": "execute_result",
          "data": {
            "text/plain": [
              "['in the realm of healthcare, navigating the complexities of patient well-being is paramount.',\n",
              " 'with advancements in medical technology and an ever-evolving understanding of human physiology, the landscape of healthcare is continuously shifting.',\n",
              " 'however, amidst the flurry of innovation and progress, the human touch remains irreplaceable.',\n",
              " 'care providers strive not only to treat ailments but also to cultivate a sense of empathy and trust in their patients.',\n",
              " \"it's a delicate dance between science and compassion, where every diagnosis, every treatment plan, is imbued with the hope of a healthier tomorrow.\",\n",
              " 'yet, amidst the triumphs, challenges persist.',\n",
              " 'from the daunting specter of chronic diseases to the pressing need for mental health support, the healthcare industry grapples with multifaceted issues.',\n",
              " 'but even in moments of uncertainty, the resilience of the human spirit shines through.',\n",
              " 'patients and caregivers alike band together, facing adversity head-on, refusing to succumb to despair.',\n",
              " \"it's a testament to the indomitable nature of the human spirit—a beacon of hope amidst the stormy seas of illness and affliction.\",\n",
              " 'and in this journey towards wellness, each step forward, no matter how small, is a victory worth celebrating.',\n",
              " '💉🏥💪']"
            ]
          },
          "metadata": {},
          "execution_count": 5
        }
      ]
    },
    {
      "cell_type": "markdown",
      "source": [
        "#Sentence Tokenization\n",
        "Sentence tokenization breaks text into individual sentences. It's essential for tasks like machine translation, text summarization, and parsing. Applications include sentiment analysis, chatbots, and speech recognition systems."
      ],
      "metadata": {
        "id": "eK_4Olj_ZpWZ"
      }
    },
    {
      "cell_type": "code",
      "source": [
        "#Punctuation-based Tokenization\n",
        "punct_text=[]\n",
        "punct_text=nltk.wordpunct_tokenize(lower_case_text)\n",
        "\n",
        "print(punct_text)"
      ],
      "metadata": {
        "colab": {
          "base_uri": "https://localhost:8080/"
        },
        "id": "y4CPpx0VcQb7",
        "outputId": "1f0216fa-98d0-4ef1-8f9c-6ed222e30957"
      },
      "execution_count": 6,
      "outputs": [
        {
          "output_type": "stream",
          "name": "stdout",
          "text": [
            "['in', 'the', 'realm', 'of', 'healthcare', ',', 'navigating', 'the', 'complexities', 'of', 'patient', 'well', '-', 'being', 'is', 'paramount', '.', 'with', 'advancements', 'in', 'medical', 'technology', 'and', 'an', 'ever', '-', 'evolving', 'understanding', 'of', 'human', 'physiology', ',', 'the', 'landscape', 'of', 'healthcare', 'is', 'continuously', 'shifting', '.', 'however', ',', 'amidst', 'the', 'flurry', 'of', 'innovation', 'and', 'progress', ',', 'the', 'human', 'touch', 'remains', 'irreplaceable', '.', 'care', 'providers', 'strive', 'not', 'only', 'to', 'treat', 'ailments', 'but', 'also', 'to', 'cultivate', 'a', 'sense', 'of', 'empathy', 'and', 'trust', 'in', 'their', 'patients', '.', 'it', \"'\", 's', 'a', 'delicate', 'dance', 'between', 'science', 'and', 'compassion', ',', 'where', 'every', 'diagnosis', ',', 'every', 'treatment', 'plan', ',', 'is', 'imbued', 'with', 'the', 'hope', 'of', 'a', 'healthier', 'tomorrow', '.', 'yet', ',', 'amidst', 'the', 'triumphs', ',', 'challenges', 'persist', '.', 'from', 'the', 'daunting', 'specter', 'of', 'chronic', 'diseases', 'to', 'the', 'pressing', 'need', 'for', 'mental', 'health', 'support', ',', 'the', 'healthcare', 'industry', 'grapples', 'with', 'multifaceted', 'issues', '.', 'but', 'even', 'in', 'moments', 'of', 'uncertainty', ',', 'the', 'resilience', 'of', 'the', 'human', 'spirit', 'shines', 'through', '.', 'patients', 'and', 'caregivers', 'alike', 'band', 'together', ',', 'facing', 'adversity', 'head', '-', 'on', ',', 'refusing', 'to', 'succumb', 'to', 'despair', '.', 'it', \"'\", 's', 'a', 'testament', 'to', 'the', 'indomitable', 'nature', 'of', 'the', 'human', 'spirit', '—', 'a', 'beacon', 'of', 'hope', 'amidst', 'the', 'stormy', 'seas', 'of', 'illness', 'and', 'affliction', '.', 'and', 'in', 'this', 'journey', 'towards', 'wellness', ',', 'each', 'step', 'forward', ',', 'no', 'matter', 'how', 'small', ',', 'is', 'a', 'victory', 'worth', 'celebrating', '.', '💉🏥💪']\n"
          ]
        }
      ]
    },
    {
      "cell_type": "markdown",
      "source": [
        "#Punctuation-based Tokenization\n",
        "This tokenizer breaks text into tokens based on punctuation marks like commas, periods, and exclamation marks. It can be useful for tasks like extracting lists, addresses, or structured data from text. Applications include parsing emails, extracting phone numbers, and analyzing social media posts."
      ],
      "metadata": {
        "id": "-Hic4OuoZu2u"
      }
    },
    {
      "cell_type": "code",
      "source": [
        "#Treebank Word Tokenization\n",
        "tbw_text=[]\n",
        "tbw_text=TreebankWordTokenizer().tokenize(lower_case_text)\n",
        "print(tbw_text)"
      ],
      "metadata": {
        "colab": {
          "base_uri": "https://localhost:8080/"
        },
        "id": "wiwqKNRkdHiz",
        "outputId": "333c1dfe-e99c-4174-de78-4a855f5db07e"
      },
      "execution_count": 7,
      "outputs": [
        {
          "output_type": "stream",
          "name": "stdout",
          "text": [
            "['in', 'the', 'realm', 'of', 'healthcare', ',', 'navigating', 'the', 'complexities', 'of', 'patient', 'well-being', 'is', 'paramount.', 'with', 'advancements', 'in', 'medical', 'technology', 'and', 'an', 'ever-evolving', 'understanding', 'of', 'human', 'physiology', ',', 'the', 'landscape', 'of', 'healthcare', 'is', 'continuously', 'shifting.', 'however', ',', 'amidst', 'the', 'flurry', 'of', 'innovation', 'and', 'progress', ',', 'the', 'human', 'touch', 'remains', 'irreplaceable.', 'care', 'providers', 'strive', 'not', 'only', 'to', 'treat', 'ailments', 'but', 'also', 'to', 'cultivate', 'a', 'sense', 'of', 'empathy', 'and', 'trust', 'in', 'their', 'patients.', 'it', \"'s\", 'a', 'delicate', 'dance', 'between', 'science', 'and', 'compassion', ',', 'where', 'every', 'diagnosis', ',', 'every', 'treatment', 'plan', ',', 'is', 'imbued', 'with', 'the', 'hope', 'of', 'a', 'healthier', 'tomorrow.', 'yet', ',', 'amidst', 'the', 'triumphs', ',', 'challenges', 'persist.', 'from', 'the', 'daunting', 'specter', 'of', 'chronic', 'diseases', 'to', 'the', 'pressing', 'need', 'for', 'mental', 'health', 'support', ',', 'the', 'healthcare', 'industry', 'grapples', 'with', 'multifaceted', 'issues.', 'but', 'even', 'in', 'moments', 'of', 'uncertainty', ',', 'the', 'resilience', 'of', 'the', 'human', 'spirit', 'shines', 'through.', 'patients', 'and', 'caregivers', 'alike', 'band', 'together', ',', 'facing', 'adversity', 'head-on', ',', 'refusing', 'to', 'succumb', 'to', 'despair.', 'it', \"'s\", 'a', 'testament', 'to', 'the', 'indomitable', 'nature', 'of', 'the', 'human', 'spirit—a', 'beacon', 'of', 'hope', 'amidst', 'the', 'stormy', 'seas', 'of', 'illness', 'and', 'affliction.', 'and', 'in', 'this', 'journey', 'towards', 'wellness', ',', 'each', 'step', 'forward', ',', 'no', 'matter', 'how', 'small', ',', 'is', 'a', 'victory', 'worth', 'celebrating.', '💉🏥💪']\n"
          ]
        }
      ]
    },
    {
      "cell_type": "markdown",
      "source": [
        "#Treebank Word Tokenization\n",
        "Treebank tokenization follows the conventions used in the Penn Treebank corpus. It handles complex cases like contractions, hyphenated words, and punctuation. It's commonly used in syntactic parsing, part-of-speech tagging, and named entity recognition."
      ],
      "metadata": {
        "id": "DvFC8picZz30"
      }
    },
    {
      "cell_type": "code",
      "source": [
        "#Tweet Tokenization\n",
        "tw_text=[]\n",
        "tw_text=TweetTokenizer().tokenize(lower_case_text)\n",
        "print(tw_text)"
      ],
      "metadata": {
        "colab": {
          "base_uri": "https://localhost:8080/"
        },
        "id": "CihTmY95h3Wu",
        "outputId": "1b34a2a7-fd70-45a4-9e51-71e3db5c7aa9"
      },
      "execution_count": 8,
      "outputs": [
        {
          "output_type": "stream",
          "name": "stdout",
          "text": [
            "['in', 'the', 'realm', 'of', 'healthcare', ',', 'navigating', 'the', 'complexities', 'of', 'patient', 'well-being', 'is', 'paramount', '.', 'with', 'advancements', 'in', 'medical', 'technology', 'and', 'an', 'ever-evolving', 'understanding', 'of', 'human', 'physiology', ',', 'the', 'landscape', 'of', 'healthcare', 'is', 'continuously', 'shifting', '.', 'however', ',', 'amidst', 'the', 'flurry', 'of', 'innovation', 'and', 'progress', ',', 'the', 'human', 'touch', 'remains', 'irreplaceable', '.', 'care', 'providers', 'strive', 'not', 'only', 'to', 'treat', 'ailments', 'but', 'also', 'to', 'cultivate', 'a', 'sense', 'of', 'empathy', 'and', 'trust', 'in', 'their', 'patients', '.', \"it's\", 'a', 'delicate', 'dance', 'between', 'science', 'and', 'compassion', ',', 'where', 'every', 'diagnosis', ',', 'every', 'treatment', 'plan', ',', 'is', 'imbued', 'with', 'the', 'hope', 'of', 'a', 'healthier', 'tomorrow', '.', 'yet', ',', 'amidst', 'the', 'triumphs', ',', 'challenges', 'persist', '.', 'from', 'the', 'daunting', 'specter', 'of', 'chronic', 'diseases', 'to', 'the', 'pressing', 'need', 'for', 'mental', 'health', 'support', ',', 'the', 'healthcare', 'industry', 'grapples', 'with', 'multifaceted', 'issues', '.', 'but', 'even', 'in', 'moments', 'of', 'uncertainty', ',', 'the', 'resilience', 'of', 'the', 'human', 'spirit', 'shines', 'through', '.', 'patients', 'and', 'caregivers', 'alike', 'band', 'together', ',', 'facing', 'adversity', 'head-on', ',', 'refusing', 'to', 'succumb', 'to', 'despair', '.', \"it's\", 'a', 'testament', 'to', 'the', 'indomitable', 'nature', 'of', 'the', 'human', 'spirit', '—', 'a', 'beacon', 'of', 'hope', 'amidst', 'the', 'stormy', 'seas', 'of', 'illness', 'and', 'affliction', '.', 'and', 'in', 'this', 'journey', 'towards', 'wellness', ',', 'each', 'step', 'forward', ',', 'no', 'matter', 'how', 'small', ',', 'is', 'a', 'victory', 'worth', 'celebrating', '.', '💉', '🏥', '💪']\n"
          ]
        }
      ]
    },
    {
      "cell_type": "markdown",
      "source": [
        "#Tweet Tokenization\n",
        " Specifically designed for tweets, this tokenizer handles hashtags, mentions, and emojis commonly found in Twitter data. It's valuable for sentiment analysis, trend analysis, and social media monitoring."
      ],
      "metadata": {
        "id": "ea4AcJ0NZ4-s"
      }
    },
    {
      "cell_type": "code",
      "source": [
        "#Multi-Word Expression Tokenization\n",
        "mwe_text=[]\n",
        "tokenizer = MWETokenizer()\n",
        "mwe_text = tokenizer.tokenize(lower_case_text)\n",
        "tokenizer.add_mwe(('ice', 'cream'))\n",
        "mwe_text = tokenizer.tokenize(w_token)\n",
        "print(mwe_text)\n"
      ],
      "metadata": {
        "colab": {
          "base_uri": "https://localhost:8080/"
        },
        "id": "5S2a5jxqimAd",
        "outputId": "abf0824c-f512-4561-fd1f-f5ab728ea68e"
      },
      "execution_count": 9,
      "outputs": [
        {
          "output_type": "stream",
          "name": "stdout",
          "text": [
            "['in', 'the', 'realm', 'of', 'healthcare', ',', 'navigating', 'the', 'complexities', 'of', 'patient', 'well-being', 'is', 'paramount', '.', 'with', 'advancements', 'in', 'medical', 'technology', 'and', 'an', 'ever-evolving', 'understanding', 'of', 'human', 'physiology', ',', 'the', 'landscape', 'of', 'healthcare', 'is', 'continuously', 'shifting', '.', 'however', ',', 'amidst', 'the', 'flurry', 'of', 'innovation', 'and', 'progress', ',', 'the', 'human', 'touch', 'remains', 'irreplaceable', '.', 'care', 'providers', 'strive', 'not', 'only', 'to', 'treat', 'ailments', 'but', 'also', 'to', 'cultivate', 'a', 'sense', 'of', 'empathy', 'and', 'trust', 'in', 'their', 'patients', '.', 'it', \"'s\", 'a', 'delicate', 'dance', 'between', 'science', 'and', 'compassion', ',', 'where', 'every', 'diagnosis', ',', 'every', 'treatment', 'plan', ',', 'is', 'imbued', 'with', 'the', 'hope', 'of', 'a', 'healthier', 'tomorrow', '.', 'yet', ',', 'amidst', 'the', 'triumphs', ',', 'challenges', 'persist', '.', 'from', 'the', 'daunting', 'specter', 'of', 'chronic', 'diseases', 'to', 'the', 'pressing', 'need', 'for', 'mental', 'health', 'support', ',', 'the', 'healthcare', 'industry', 'grapples', 'with', 'multifaceted', 'issues', '.', 'but', 'even', 'in', 'moments', 'of', 'uncertainty', ',', 'the', 'resilience', 'of', 'the', 'human', 'spirit', 'shines', 'through', '.', 'patients', 'and', 'caregivers', 'alike', 'band', 'together', ',', 'facing', 'adversity', 'head-on', ',', 'refusing', 'to', 'succumb', 'to', 'despair', '.', 'it', \"'s\", 'a', 'testament', 'to', 'the', 'indomitable', 'nature', 'of', 'the', 'human', 'spirit—a', 'beacon', 'of', 'hope', 'amidst', 'the', 'stormy', 'seas', 'of', 'illness', 'and', 'affliction', '.', 'and', 'in', 'this', 'journey', 'towards', 'wellness', ',', 'each', 'step', 'forward', ',', 'no', 'matter', 'how', 'small', ',', 'is', 'a', 'victory', 'worth', 'celebrating', '.', '💉🏥💪']\n"
          ]
        }
      ]
    },
    {
      "cell_type": "markdown",
      "source": [
        "#Multi-Word Expression Tokenization\n",
        "This tokenizer identifies multi-word expressions or phrases as tokens. It's useful for tasks like collocation extraction, phrase-based machine translation, and information retrieval."
      ],
      "metadata": {
        "id": "9pDj8_VgZ950"
      }
    },
    {
      "cell_type": "code",
      "source": [
        "#TextBlob Word Tokenization\n",
        "b_text=[]\n",
        "b_text=TextBlob(lower_case_text)\n",
        "b_text=b_text.words\n",
        "print(b_text)"
      ],
      "metadata": {
        "colab": {
          "base_uri": "https://localhost:8080/"
        },
        "id": "tENOxzsMmKXj",
        "outputId": "2c564aa6-6610-4c1f-db48-0290221a45fd"
      },
      "execution_count": 10,
      "outputs": [
        {
          "output_type": "stream",
          "name": "stdout",
          "text": [
            "['in', 'the', 'realm', 'of', 'healthcare', 'navigating', 'the', 'complexities', 'of', 'patient', 'well-being', 'is', 'paramount', 'with', 'advancements', 'in', 'medical', 'technology', 'and', 'an', 'ever-evolving', 'understanding', 'of', 'human', 'physiology', 'the', 'landscape', 'of', 'healthcare', 'is', 'continuously', 'shifting', 'however', 'amidst', 'the', 'flurry', 'of', 'innovation', 'and', 'progress', 'the', 'human', 'touch', 'remains', 'irreplaceable', 'care', 'providers', 'strive', 'not', 'only', 'to', 'treat', 'ailments', 'but', 'also', 'to', 'cultivate', 'a', 'sense', 'of', 'empathy', 'and', 'trust', 'in', 'their', 'patients', 'it', \"'s\", 'a', 'delicate', 'dance', 'between', 'science', 'and', 'compassion', 'where', 'every', 'diagnosis', 'every', 'treatment', 'plan', 'is', 'imbued', 'with', 'the', 'hope', 'of', 'a', 'healthier', 'tomorrow', 'yet', 'amidst', 'the', 'triumphs', 'challenges', 'persist', 'from', 'the', 'daunting', 'specter', 'of', 'chronic', 'diseases', 'to', 'the', 'pressing', 'need', 'for', 'mental', 'health', 'support', 'the', 'healthcare', 'industry', 'grapples', 'with', 'multifaceted', 'issues', 'but', 'even', 'in', 'moments', 'of', 'uncertainty', 'the', 'resilience', 'of', 'the', 'human', 'spirit', 'shines', 'through', 'patients', 'and', 'caregivers', 'alike', 'band', 'together', 'facing', 'adversity', 'head-on', 'refusing', 'to', 'succumb', 'to', 'despair', 'it', \"'s\", 'a', 'testament', 'to', 'the', 'indomitable', 'nature', 'of', 'the', 'human', 'spirit—a', 'beacon', 'of', 'hope', 'amidst', 'the', 'stormy', 'seas', 'of', 'illness', 'and', 'affliction', 'and', 'in', 'this', 'journey', 'towards', 'wellness', 'each', 'step', 'forward', 'no', 'matter', 'how', 'small', 'is', 'a', 'victory', 'worth', 'celebrating', '💉🏥💪']\n"
          ]
        }
      ]
    },
    {
      "cell_type": "markdown",
      "source": [
        "#TextBlob Word Tokenization\n",
        " TextBlob's tokenization method provides a simple interface for tokenizing text. It's suitable for basic NLP tasks like text processing, sentiment analysis, and text classification."
      ],
      "metadata": {
        "id": "17oYsk79aFE2"
      }
    },
    {
      "cell_type": "code",
      "source": [
        "#Tokenization using Spacy\n",
        "sp_tokenize = spacy.blank(\"en\")\n",
        "sp_text = sp_tokenize(user_input)\n",
        "for token in sp_text:\n",
        "    print(token.text)\n"
      ],
      "metadata": {
        "colab": {
          "base_uri": "https://localhost:8080/"
        },
        "id": "yGKU7VkDm0H9",
        "outputId": "659e6cea-4d79-4164-b140-378a1a4324f2"
      },
      "execution_count": 11,
      "outputs": [
        {
          "output_type": "stream",
          "name": "stdout",
          "text": [
            "In\n",
            "the\n",
            "realm\n",
            "of\n",
            "healthcare\n",
            ",\n",
            "navigating\n",
            "the\n",
            "complexities\n",
            "of\n",
            "patient\n",
            "well\n",
            "-\n",
            "being\n",
            "is\n",
            "paramount\n",
            ".\n",
            "With\n",
            "advancements\n",
            "in\n",
            "medical\n",
            "technology\n",
            "and\n",
            "an\n",
            "ever\n",
            "-\n",
            "evolving\n",
            "understanding\n",
            "of\n",
            "human\n",
            "physiology\n",
            ",\n",
            "the\n",
            "landscape\n",
            "of\n",
            "healthcare\n",
            "is\n",
            "continuously\n",
            "shifting\n",
            ".\n",
            "However\n",
            ",\n",
            "amidst\n",
            "the\n",
            "flurry\n",
            "of\n",
            "innovation\n",
            "and\n",
            "progress\n",
            ",\n",
            "the\n",
            "human\n",
            "touch\n",
            "remains\n",
            "irreplaceable\n",
            ".\n",
            "Care\n",
            "providers\n",
            "strive\n",
            "not\n",
            "only\n",
            "to\n",
            "treat\n",
            "ailments\n",
            "but\n",
            "also\n",
            "to\n",
            "cultivate\n",
            "a\n",
            "sense\n",
            "of\n",
            "empathy\n",
            "and\n",
            "trust\n",
            "in\n",
            "their\n",
            "patients\n",
            ".\n",
            "It\n",
            "'s\n",
            "a\n",
            "delicate\n",
            "dance\n",
            "between\n",
            "science\n",
            "and\n",
            "compassion\n",
            ",\n",
            "where\n",
            "every\n",
            "diagnosis\n",
            ",\n",
            "every\n",
            "treatment\n",
            "plan\n",
            ",\n",
            "is\n",
            "imbued\n",
            "with\n",
            "the\n",
            "hope\n",
            "of\n",
            "a\n",
            "healthier\n",
            "tomorrow\n",
            ".\n",
            "Yet\n",
            ",\n",
            "amidst\n",
            "the\n",
            "triumphs\n",
            ",\n",
            "challenges\n",
            "persist\n",
            ".\n",
            "From\n",
            "the\n",
            "daunting\n",
            "specter\n",
            "of\n",
            "chronic\n",
            "diseases\n",
            "to\n",
            "the\n",
            "pressing\n",
            "need\n",
            "for\n",
            "mental\n",
            "health\n",
            "support\n",
            ",\n",
            "the\n",
            "healthcare\n",
            "industry\n",
            "grapples\n",
            "with\n",
            "multifaceted\n",
            "issues\n",
            ".\n",
            "But\n",
            "even\n",
            "in\n",
            "moments\n",
            "of\n",
            "uncertainty\n",
            ",\n",
            "the\n",
            "resilience\n",
            "of\n",
            "the\n",
            "human\n",
            "spirit\n",
            "shines\n",
            "through\n",
            ".\n",
            "Patients\n",
            "and\n",
            "caregivers\n",
            "alike\n",
            "band\n",
            "together\n",
            ",\n",
            "facing\n",
            "adversity\n",
            "head\n",
            "-\n",
            "on\n",
            ",\n",
            "refusing\n",
            "to\n",
            "succumb\n",
            "to\n",
            "despair\n",
            ".\n",
            "It\n",
            "'s\n",
            "a\n",
            "testament\n",
            "to\n",
            "the\n",
            "indomitable\n",
            "nature\n",
            "of\n",
            "the\n",
            "human\n",
            "spirit\n",
            "—\n",
            "a\n",
            "beacon\n",
            "of\n",
            "hope\n",
            "amidst\n",
            "the\n",
            "stormy\n",
            "seas\n",
            "of\n",
            "illness\n",
            "and\n",
            "affliction\n",
            ".\n",
            "And\n",
            "in\n",
            "this\n",
            "journey\n",
            "towards\n",
            "wellness\n",
            ",\n",
            "each\n",
            "step\n",
            "forward\n",
            ",\n",
            "no\n",
            "matter\n",
            "how\n",
            "small\n",
            ",\n",
            "is\n",
            "a\n",
            "victory\n",
            "worth\n",
            "celebrating\n",
            ".\n",
            "💉\n",
            "🏥\n",
            "💪\n"
          ]
        }
      ]
    },
    {
      "cell_type": "markdown",
      "source": [
        "#Tokenization using Spacy\n",
        "spaCy's tokenizer is fast and accurate, capable of handling complex linguistic features like contractions, compound words, and named entities. It's widely used in various NLP tasks including dependency parsing, named entity recognition, and document classification."
      ],
      "metadata": {
        "id": "Nv0G16uvaKzD"
      }
    },
    {
      "cell_type": "code",
      "source": [
        "#Gensim word Tokenization\n",
        "g_text=[]\n",
        "g_text=list(tokenize(user_input))\n",
        "print(g_text)"
      ],
      "metadata": {
        "colab": {
          "base_uri": "https://localhost:8080/"
        },
        "id": "ZzzEfmFLorLu",
        "outputId": "b9285eef-d458-4e40-b2d7-0dfae7e355ee"
      },
      "execution_count": 12,
      "outputs": [
        {
          "output_type": "stream",
          "name": "stdout",
          "text": [
            "['In', 'the', 'realm', 'of', 'healthcare', 'navigating', 'the', 'complexities', 'of', 'patient', 'well', 'being', 'is', 'paramount', 'With', 'advancements', 'in', 'medical', 'technology', 'and', 'an', 'ever', 'evolving', 'understanding', 'of', 'human', 'physiology', 'the', 'landscape', 'of', 'healthcare', 'is', 'continuously', 'shifting', 'However', 'amidst', 'the', 'flurry', 'of', 'innovation', 'and', 'progress', 'the', 'human', 'touch', 'remains', 'irreplaceable', 'Care', 'providers', 'strive', 'not', 'only', 'to', 'treat', 'ailments', 'but', 'also', 'to', 'cultivate', 'a', 'sense', 'of', 'empathy', 'and', 'trust', 'in', 'their', 'patients', 'It', 's', 'a', 'delicate', 'dance', 'between', 'science', 'and', 'compassion', 'where', 'every', 'diagnosis', 'every', 'treatment', 'plan', 'is', 'imbued', 'with', 'the', 'hope', 'of', 'a', 'healthier', 'tomorrow', 'Yet', 'amidst', 'the', 'triumphs', 'challenges', 'persist', 'From', 'the', 'daunting', 'specter', 'of', 'chronic', 'diseases', 'to', 'the', 'pressing', 'need', 'for', 'mental', 'health', 'support', 'the', 'healthcare', 'industry', 'grapples', 'with', 'multifaceted', 'issues', 'But', 'even', 'in', 'moments', 'of', 'uncertainty', 'the', 'resilience', 'of', 'the', 'human', 'spirit', 'shines', 'through', 'Patients', 'and', 'caregivers', 'alike', 'band', 'together', 'facing', 'adversity', 'head', 'on', 'refusing', 'to', 'succumb', 'to', 'despair', 'It', 's', 'a', 'testament', 'to', 'the', 'indomitable', 'nature', 'of', 'the', 'human', 'spirit', 'a', 'beacon', 'of', 'hope', 'amidst', 'the', 'stormy', 'seas', 'of', 'illness', 'and', 'affliction', 'And', 'in', 'this', 'journey', 'towards', 'wellness', 'each', 'step', 'forward', 'no', 'matter', 'how', 'small', 'is', 'a', 'victory', 'worth', 'celebrating']\n"
          ]
        }
      ]
    },
    {
      "cell_type": "markdown",
      "source": [
        "#Gensim word Tokenization\n",
        "Gensim provides a straightforward tokenizer for processing text data. It's commonly used in topic modeling, document similarity analysis, and word embedding generation."
      ],
      "metadata": {
        "id": "jyjyNlr7aQ1k"
      }
    },
    {
      "cell_type": "code",
      "source": [
        "#Tokenization using Keras\n",
        "tokenizer = Tokenizer()\n",
        "tokenizer.fit_on_texts([user_input])\n",
        "k_l_text = text_to_word_sequence(user_input)\n",
        "print(k_l_text)"
      ],
      "metadata": {
        "colab": {
          "base_uri": "https://localhost:8080/"
        },
        "id": "Kr5I9KDyqIjE",
        "outputId": "3720209b-557d-42e5-b4e6-bb976ac9b057"
      },
      "execution_count": 13,
      "outputs": [
        {
          "output_type": "stream",
          "name": "stdout",
          "text": [
            "['in', 'the', 'realm', 'of', 'healthcare', 'navigating', 'the', 'complexities', 'of', 'patient', 'well', 'being', 'is', 'paramount', 'with', 'advancements', 'in', 'medical', 'technology', 'and', 'an', 'ever', 'evolving', 'understanding', 'of', 'human', 'physiology', 'the', 'landscape', 'of', 'healthcare', 'is', 'continuously', 'shifting', 'however', 'amidst', 'the', 'flurry', 'of', 'innovation', 'and', 'progress', 'the', 'human', 'touch', 'remains', 'irreplaceable', 'care', 'providers', 'strive', 'not', 'only', 'to', 'treat', 'ailments', 'but', 'also', 'to', 'cultivate', 'a', 'sense', 'of', 'empathy', 'and', 'trust', 'in', 'their', 'patients', \"it's\", 'a', 'delicate', 'dance', 'between', 'science', 'and', 'compassion', 'where', 'every', 'diagnosis', 'every', 'treatment', 'plan', 'is', 'imbued', 'with', 'the', 'hope', 'of', 'a', 'healthier', 'tomorrow', 'yet', 'amidst', 'the', 'triumphs', 'challenges', 'persist', 'from', 'the', 'daunting', 'specter', 'of', 'chronic', 'diseases', 'to', 'the', 'pressing', 'need', 'for', 'mental', 'health', 'support', 'the', 'healthcare', 'industry', 'grapples', 'with', 'multifaceted', 'issues', 'but', 'even', 'in', 'moments', 'of', 'uncertainty', 'the', 'resilience', 'of', 'the', 'human', 'spirit', 'shines', 'through', 'patients', 'and', 'caregivers', 'alike', 'band', 'together', 'facing', 'adversity', 'head', 'on', 'refusing', 'to', 'succumb', 'to', 'despair', \"it's\", 'a', 'testament', 'to', 'the', 'indomitable', 'nature', 'of', 'the', 'human', 'spirit—a', 'beacon', 'of', 'hope', 'amidst', 'the', 'stormy', 'seas', 'of', 'illness', 'and', 'affliction', 'and', 'in', 'this', 'journey', 'towards', 'wellness', 'each', 'step', 'forward', 'no', 'matter', 'how', 'small', 'is', 'a', 'victory', 'worth', 'celebrating', '💉🏥💪']\n"
          ]
        }
      ]
    },
    {
      "cell_type": "markdown",
      "source": [
        "\n",
        "#Tokenization using Keras\n",
        " Keras offers a tokenizer for converting text documents into sequences of integers. It's often used in natural language processing tasks like text classification, sequence-to-sequence modeling, and language generation.\n"
      ],
      "metadata": {
        "id": "2CP6CMKMaUYj"
      }
    }
  ]
}