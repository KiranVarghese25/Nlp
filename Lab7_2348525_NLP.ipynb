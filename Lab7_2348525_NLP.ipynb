{
  "nbformat": 4,
  "nbformat_minor": 0,
  "metadata": {
    "colab": {
      "provenance": [],
      "authorship_tag": "ABX9TyM4+Lqg+6ujTph1hAPWK3uC",
      "include_colab_link": true
    },
    "kernelspec": {
      "name": "python3",
      "display_name": "Python 3"
    },
    "language_info": {
      "name": "python"
    }
  },
  "cells": [
    {
      "cell_type": "markdown",
      "metadata": {
        "id": "view-in-github",
        "colab_type": "text"
      },
      "source": [
        "<a href=\"https://colab.research.google.com/github/KiranVarghese25/Nlp/blob/main/Lab7_2348525_NLP.ipynb\" target=\"_parent\"><img src=\"https://colab.research.google.com/assets/colab-badge.svg\" alt=\"Open In Colab\"/></a>"
      ]
    },
    {
      "cell_type": "markdown",
      "source": [
        "#Lab Exercise 7:\n",
        "\n",
        "1. Find the similarity between two documents (2 corpus or two paragraphs) using any of\n",
        "the two similarity measures.\n",
        "[Take any of the suitable dataset for the implementation for the following questions,\n",
        "that we already discussed in class and shared in Google Colab, File name - Sentiment\n",
        "Analysis]\n",
        "2. Implement the Sentiment Analysis using Bayesian Classification.\n",
        "3. Implement the Sentiment Analysis using RNN.\n",
        "4. Implement the Sentiment Analysis using LSTM."
      ],
      "metadata": {
        "id": "lu295IqeFILx"
      }
    },
    {
      "cell_type": "code",
      "execution_count": null,
      "metadata": {
        "id": "CfljUs21CnK2"
      },
      "outputs": [],
      "source": []
    }
  ]
}