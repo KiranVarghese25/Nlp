{
  "nbformat": 4,
  "nbformat_minor": 0,
  "metadata": {
    "colab": {
      "provenance": []
    },
    "kernelspec": {
      "name": "python3",
      "display_name": "Python 3"
    },
    "language_info": {
      "name": "python"
    }
  },
  "cells": [
    {
      "cell_type": "markdown",
      "source": [
        "**Similarity Analysis**"
      ],
      "metadata": {
        "id": "WlFigno1ViZo"
      }
    },
    {
      "cell_type": "code",
      "execution_count": 2,
      "metadata": {
        "id": "wGcDeg1BVcV9"
      },
      "outputs": [],
      "source": [
        "doc1='Hello, my name is Elizabeth'\n",
        "doc2='Hi, my name is Eliza'\n",
        "string=[doc1,doc2]"
      ]
    },
    {
      "cell_type": "code",
      "source": [
        "import nltk\n",
        "nltk.download('punkt')\n",
        "nltk.download('stopwords')"
      ],
      "metadata": {
        "colab": {
          "base_uri": "https://localhost:8080/"
        },
        "id": "Avl-6Rg1VuRe",
        "outputId": "49729093-f10a-4c68-dfe3-8ab75e77f999"
      },
      "execution_count": 3,
      "outputs": [
        {
          "output_type": "stream",
          "name": "stderr",
          "text": [
            "[nltk_data] Downloading package punkt to /root/nltk_data...\n",
            "[nltk_data]   Unzipping tokenizers/punkt.zip.\n",
            "[nltk_data] Downloading package stopwords to /root/nltk_data...\n",
            "[nltk_data]   Unzipping corpora/stopwords.zip.\n"
          ]
        },
        {
          "output_type": "execute_result",
          "data": {
            "text/plain": [
              "True"
            ]
          },
          "metadata": {},
          "execution_count": 3
        }
      ]
    },
    {
      "cell_type": "code",
      "source": [
        "from nltk.corpus import stopwords\n",
        "from nltk.tokenize import word_tokenize\n",
        "doc1=word_tokenize(doc1)\n",
        "doc2=word_tokenize(doc2)\n",
        "sw = stopwords.words('english')\n",
        "l1 =[];l2 =[]\n",
        "X_set = {w for w in doc1 if not w in sw}\n",
        "Y_set = {w for w in doc2 if not w in sw}\n",
        "print(X_set)\n",
        "print(Y_set)"
      ],
      "metadata": {
        "colab": {
          "base_uri": "https://localhost:8080/"
        },
        "id": "GVD9Z7tfVlg4",
        "outputId": "493ba831-7b60-445a-d297-d2cdb279e961"
      },
      "execution_count": 4,
      "outputs": [
        {
          "output_type": "stream",
          "name": "stdout",
          "text": [
            "{'name', 'Hello', ',', 'Elizabeth'}\n",
            "{'Hi', 'name', ',', 'Eliza'}\n"
          ]
        }
      ]
    },
    {
      "cell_type": "code",
      "source": [
        "rvector = X_set.union(Y_set)\n",
        "for w in rvector:\n",
        "    if w in X_set: l1.append(1) # create a vector\n",
        "    else: l1.append(0)\n",
        "    if w in Y_set: l2.append(1)\n",
        "    else: l2.append(0)\n",
        "c = 0\n",
        "print(rvector)\n",
        "print(l1)\n",
        "print(l2)"
      ],
      "metadata": {
        "colab": {
          "base_uri": "https://localhost:8080/"
        },
        "id": "eFQisXmEVn9N",
        "outputId": "4189c0a5-d376-4417-e9ad-9467f1d30438"
      },
      "execution_count": 5,
      "outputs": [
        {
          "output_type": "stream",
          "name": "stdout",
          "text": [
            "{'Hello', 'Eliza', 'Hi', ',', 'Elizabeth', 'name'}\n",
            "[1, 0, 0, 1, 1, 1]\n",
            "[0, 1, 1, 1, 0, 1]\n"
          ]
        }
      ]
    },
    {
      "cell_type": "code",
      "source": [
        "import numpy as np\n",
        "A=np.array(l1)\n",
        "B=np.array(l2)\n",
        "dot = np.dot(A,B)\n",
        "norma = np.linalg.norm(A)\n",
        "normb = np.linalg.norm(B)\n",
        "cos = dot/(norma*normb)\n",
        "print(cos)"
      ],
      "metadata": {
        "colab": {
          "base_uri": "https://localhost:8080/"
        },
        "id": "bDVdJtGrWB9v",
        "outputId": "133db154-222a-4a63-ef40-e48ef9853b19"
      },
      "execution_count": 6,
      "outputs": [
        {
          "output_type": "stream",
          "name": "stdout",
          "text": [
            "0.5\n"
          ]
        }
      ]
    },
    {
      "cell_type": "markdown",
      "source": [
        "**Based on Euclidean Distance**"
      ],
      "metadata": {
        "id": "eu0pBbObWHiP"
      }
    },
    {
      "cell_type": "code",
      "source": [
        "d = np.linalg.norm(A-B)\n",
        "print(d)"
      ],
      "metadata": {
        "colab": {
          "base_uri": "https://localhost:8080/"
        },
        "id": "Z0EKYXk2WCbg",
        "outputId": "6158b627-1811-4acd-af06-fc58adf98607"
      },
      "execution_count": 7,
      "outputs": [
        {
          "output_type": "stream",
          "name": "stdout",
          "text": [
            "2.0\n"
          ]
        }
      ]
    },
    {
      "cell_type": "markdown",
      "source": [
        "**Sentiment Analysis**"
      ],
      "metadata": {
        "id": "I0n46kVWWMZ4"
      }
    },
    {
      "cell_type": "code",
      "source": [
        "import pandas as pd\n",
        "data=pd.read_csv('/content/drive/MyDrive/test.csv')\n",
        "data.head()"
      ],
      "metadata": {
        "colab": {
          "base_uri": "https://localhost:8080/",
          "height": 206
        },
        "id": "8IwvkpSiWNi9",
        "outputId": "05d6c185-7a81-41b8-988b-8ffc9abf5318"
      },
      "execution_count": 8,
      "outputs": [
        {
          "output_type": "execute_result",
          "data": {
            "text/plain": [
              "                                                text sentiment\n",
              "0  My daughter liked it but I was aghast, that a ...       neg\n",
              "1  I... No words. No words can describe this. I w...       neg\n",
              "2  this film is basically a poor take on the old ...       neg\n",
              "3  This is a terrible movie, and I'm not even sur...       neg\n",
              "4  First of all this movie is a piece of reality ...       pos"
            ],
            "text/html": [
              "\n",
              "  <div id=\"df-eda92eee-305a-4f24-8cd6-c07ca4de6ea0\" class=\"colab-df-container\">\n",
              "    <div>\n",
              "<style scoped>\n",
              "    .dataframe tbody tr th:only-of-type {\n",
              "        vertical-align: middle;\n",
              "    }\n",
              "\n",
              "    .dataframe tbody tr th {\n",
              "        vertical-align: top;\n",
              "    }\n",
              "\n",
              "    .dataframe thead th {\n",
              "        text-align: right;\n",
              "    }\n",
              "</style>\n",
              "<table border=\"1\" class=\"dataframe\">\n",
              "  <thead>\n",
              "    <tr style=\"text-align: right;\">\n",
              "      <th></th>\n",
              "      <th>text</th>\n",
              "      <th>sentiment</th>\n",
              "    </tr>\n",
              "  </thead>\n",
              "  <tbody>\n",
              "    <tr>\n",
              "      <th>0</th>\n",
              "      <td>My daughter liked it but I was aghast, that a ...</td>\n",
              "      <td>neg</td>\n",
              "    </tr>\n",
              "    <tr>\n",
              "      <th>1</th>\n",
              "      <td>I... No words. No words can describe this. I w...</td>\n",
              "      <td>neg</td>\n",
              "    </tr>\n",
              "    <tr>\n",
              "      <th>2</th>\n",
              "      <td>this film is basically a poor take on the old ...</td>\n",
              "      <td>neg</td>\n",
              "    </tr>\n",
              "    <tr>\n",
              "      <th>3</th>\n",
              "      <td>This is a terrible movie, and I'm not even sur...</td>\n",
              "      <td>neg</td>\n",
              "    </tr>\n",
              "    <tr>\n",
              "      <th>4</th>\n",
              "      <td>First of all this movie is a piece of reality ...</td>\n",
              "      <td>pos</td>\n",
              "    </tr>\n",
              "  </tbody>\n",
              "</table>\n",
              "</div>\n",
              "    <div class=\"colab-df-buttons\">\n",
              "\n",
              "  <div class=\"colab-df-container\">\n",
              "    <button class=\"colab-df-convert\" onclick=\"convertToInteractive('df-eda92eee-305a-4f24-8cd6-c07ca4de6ea0')\"\n",
              "            title=\"Convert this dataframe to an interactive table.\"\n",
              "            style=\"display:none;\">\n",
              "\n",
              "  <svg xmlns=\"http://www.w3.org/2000/svg\" height=\"24px\" viewBox=\"0 -960 960 960\">\n",
              "    <path d=\"M120-120v-720h720v720H120Zm60-500h600v-160H180v160Zm220 220h160v-160H400v160Zm0 220h160v-160H400v160ZM180-400h160v-160H180v160Zm440 0h160v-160H620v160ZM180-180h160v-160H180v160Zm440 0h160v-160H620v160Z\"/>\n",
              "  </svg>\n",
              "    </button>\n",
              "\n",
              "  <style>\n",
              "    .colab-df-container {\n",
              "      display:flex;\n",
              "      gap: 12px;\n",
              "    }\n",
              "\n",
              "    .colab-df-convert {\n",
              "      background-color: #E8F0FE;\n",
              "      border: none;\n",
              "      border-radius: 50%;\n",
              "      cursor: pointer;\n",
              "      display: none;\n",
              "      fill: #1967D2;\n",
              "      height: 32px;\n",
              "      padding: 0 0 0 0;\n",
              "      width: 32px;\n",
              "    }\n",
              "\n",
              "    .colab-df-convert:hover {\n",
              "      background-color: #E2EBFA;\n",
              "      box-shadow: 0px 1px 2px rgba(60, 64, 67, 0.3), 0px 1px 3px 1px rgba(60, 64, 67, 0.15);\n",
              "      fill: #174EA6;\n",
              "    }\n",
              "\n",
              "    .colab-df-buttons div {\n",
              "      margin-bottom: 4px;\n",
              "    }\n",
              "\n",
              "    [theme=dark] .colab-df-convert {\n",
              "      background-color: #3B4455;\n",
              "      fill: #D2E3FC;\n",
              "    }\n",
              "\n",
              "    [theme=dark] .colab-df-convert:hover {\n",
              "      background-color: #434B5C;\n",
              "      box-shadow: 0px 1px 3px 1px rgba(0, 0, 0, 0.15);\n",
              "      filter: drop-shadow(0px 1px 2px rgba(0, 0, 0, 0.3));\n",
              "      fill: #FFFFFF;\n",
              "    }\n",
              "  </style>\n",
              "\n",
              "    <script>\n",
              "      const buttonEl =\n",
              "        document.querySelector('#df-eda92eee-305a-4f24-8cd6-c07ca4de6ea0 button.colab-df-convert');\n",
              "      buttonEl.style.display =\n",
              "        google.colab.kernel.accessAllowed ? 'block' : 'none';\n",
              "\n",
              "      async function convertToInteractive(key) {\n",
              "        const element = document.querySelector('#df-eda92eee-305a-4f24-8cd6-c07ca4de6ea0');\n",
              "        const dataTable =\n",
              "          await google.colab.kernel.invokeFunction('convertToInteractive',\n",
              "                                                    [key], {});\n",
              "        if (!dataTable) return;\n",
              "\n",
              "        const docLinkHtml = 'Like what you see? Visit the ' +\n",
              "          '<a target=\"_blank\" href=https://colab.research.google.com/notebooks/data_table.ipynb>data table notebook</a>'\n",
              "          + ' to learn more about interactive tables.';\n",
              "        element.innerHTML = '';\n",
              "        dataTable['output_type'] = 'display_data';\n",
              "        await google.colab.output.renderOutput(dataTable, element);\n",
              "        const docLink = document.createElement('div');\n",
              "        docLink.innerHTML = docLinkHtml;\n",
              "        element.appendChild(docLink);\n",
              "      }\n",
              "    </script>\n",
              "  </div>\n",
              "\n",
              "\n",
              "<div id=\"df-231a7db1-2850-4ccf-8ccf-c780576f4260\">\n",
              "  <button class=\"colab-df-quickchart\" onclick=\"quickchart('df-231a7db1-2850-4ccf-8ccf-c780576f4260')\"\n",
              "            title=\"Suggest charts\"\n",
              "            style=\"display:none;\">\n",
              "\n",
              "<svg xmlns=\"http://www.w3.org/2000/svg\" height=\"24px\"viewBox=\"0 0 24 24\"\n",
              "     width=\"24px\">\n",
              "    <g>\n",
              "        <path d=\"M19 3H5c-1.1 0-2 .9-2 2v14c0 1.1.9 2 2 2h14c1.1 0 2-.9 2-2V5c0-1.1-.9-2-2-2zM9 17H7v-7h2v7zm4 0h-2V7h2v10zm4 0h-2v-4h2v4z\"/>\n",
              "    </g>\n",
              "</svg>\n",
              "  </button>\n",
              "\n",
              "<style>\n",
              "  .colab-df-quickchart {\n",
              "      --bg-color: #E8F0FE;\n",
              "      --fill-color: #1967D2;\n",
              "      --hover-bg-color: #E2EBFA;\n",
              "      --hover-fill-color: #174EA6;\n",
              "      --disabled-fill-color: #AAA;\n",
              "      --disabled-bg-color: #DDD;\n",
              "  }\n",
              "\n",
              "  [theme=dark] .colab-df-quickchart {\n",
              "      --bg-color: #3B4455;\n",
              "      --fill-color: #D2E3FC;\n",
              "      --hover-bg-color: #434B5C;\n",
              "      --hover-fill-color: #FFFFFF;\n",
              "      --disabled-bg-color: #3B4455;\n",
              "      --disabled-fill-color: #666;\n",
              "  }\n",
              "\n",
              "  .colab-df-quickchart {\n",
              "    background-color: var(--bg-color);\n",
              "    border: none;\n",
              "    border-radius: 50%;\n",
              "    cursor: pointer;\n",
              "    display: none;\n",
              "    fill: var(--fill-color);\n",
              "    height: 32px;\n",
              "    padding: 0;\n",
              "    width: 32px;\n",
              "  }\n",
              "\n",
              "  .colab-df-quickchart:hover {\n",
              "    background-color: var(--hover-bg-color);\n",
              "    box-shadow: 0 1px 2px rgba(60, 64, 67, 0.3), 0 1px 3px 1px rgba(60, 64, 67, 0.15);\n",
              "    fill: var(--button-hover-fill-color);\n",
              "  }\n",
              "\n",
              "  .colab-df-quickchart-complete:disabled,\n",
              "  .colab-df-quickchart-complete:disabled:hover {\n",
              "    background-color: var(--disabled-bg-color);\n",
              "    fill: var(--disabled-fill-color);\n",
              "    box-shadow: none;\n",
              "  }\n",
              "\n",
              "  .colab-df-spinner {\n",
              "    border: 2px solid var(--fill-color);\n",
              "    border-color: transparent;\n",
              "    border-bottom-color: var(--fill-color);\n",
              "    animation:\n",
              "      spin 1s steps(1) infinite;\n",
              "  }\n",
              "\n",
              "  @keyframes spin {\n",
              "    0% {\n",
              "      border-color: transparent;\n",
              "      border-bottom-color: var(--fill-color);\n",
              "      border-left-color: var(--fill-color);\n",
              "    }\n",
              "    20% {\n",
              "      border-color: transparent;\n",
              "      border-left-color: var(--fill-color);\n",
              "      border-top-color: var(--fill-color);\n",
              "    }\n",
              "    30% {\n",
              "      border-color: transparent;\n",
              "      border-left-color: var(--fill-color);\n",
              "      border-top-color: var(--fill-color);\n",
              "      border-right-color: var(--fill-color);\n",
              "    }\n",
              "    40% {\n",
              "      border-color: transparent;\n",
              "      border-right-color: var(--fill-color);\n",
              "      border-top-color: var(--fill-color);\n",
              "    }\n",
              "    60% {\n",
              "      border-color: transparent;\n",
              "      border-right-color: var(--fill-color);\n",
              "    }\n",
              "    80% {\n",
              "      border-color: transparent;\n",
              "      border-right-color: var(--fill-color);\n",
              "      border-bottom-color: var(--fill-color);\n",
              "    }\n",
              "    90% {\n",
              "      border-color: transparent;\n",
              "      border-bottom-color: var(--fill-color);\n",
              "    }\n",
              "  }\n",
              "</style>\n",
              "\n",
              "  <script>\n",
              "    async function quickchart(key) {\n",
              "      const quickchartButtonEl =\n",
              "        document.querySelector('#' + key + ' button');\n",
              "      quickchartButtonEl.disabled = true;  // To prevent multiple clicks.\n",
              "      quickchartButtonEl.classList.add('colab-df-spinner');\n",
              "      try {\n",
              "        const charts = await google.colab.kernel.invokeFunction(\n",
              "            'suggestCharts', [key], {});\n",
              "      } catch (error) {\n",
              "        console.error('Error during call to suggestCharts:', error);\n",
              "      }\n",
              "      quickchartButtonEl.classList.remove('colab-df-spinner');\n",
              "      quickchartButtonEl.classList.add('colab-df-quickchart-complete');\n",
              "    }\n",
              "    (() => {\n",
              "      let quickchartButtonEl =\n",
              "        document.querySelector('#df-231a7db1-2850-4ccf-8ccf-c780576f4260 button');\n",
              "      quickchartButtonEl.style.display =\n",
              "        google.colab.kernel.accessAllowed ? 'block' : 'none';\n",
              "    })();\n",
              "  </script>\n",
              "</div>\n",
              "    </div>\n",
              "  </div>\n"
            ],
            "application/vnd.google.colaboratory.intrinsic+json": {
              "type": "dataframe",
              "variable_name": "data",
              "summary": "{\n  \"name\": \"data\",\n  \"rows\": 25000,\n  \"fields\": [\n    {\n      \"column\": \"text\",\n      \"properties\": {\n        \"dtype\": \"string\",\n        \"num_unique_values\": 24801,\n        \"samples\": [\n          \"Think of an extremely low-rent version of \\\"Heathers,\\\" and you've got \\\"Pep Squad.\\\" That sums up the flick in a nutshell. I must give credit where credit's due, though. The film has a nice visual appeal to it. I liked the cinematography, I liked the wild color schemes, I liked the costume designs. But without good acting, a film has no redeeming value. I'd rather watch a film with little visual appeal, with good actors and sharp dialogue (i.e.: \\\"The Brothers McMullen\\\" or any Edward Burns film). The actors either recite their dialogue in monotones or scream it out like they're in a bad soap opera. This is why I don't badmouth most mainstream actors. Let's face it, most actors who are mainstream are mainstream for a reason. If they're not \\\"great\\\" actors, they're at least competent. People badmouth Leo DiCaprio, but when was the last time you saw a movie where he recites the dialogue as if he's reading it off the page? It's a shame, because the director seems like he knows his stuff when it comes to mis en scene (sp). At the same time I can't totally praise Steve Balderson (the director). He did write the screenplay, which contains some horrible dialogue. He might be slightly racist too, since there's a black principal in the movie, who inhabits a culmination of African-American stereotypes.\",\n          \"Soul Calibur has always been my favorite fighting game series of all time. And SCIII is my favorite one of the series.<br /><br />The graphics are very well done. Much bigger improvement over the choppy polygons in Soul Edge/Soul Blade. The characters have facial expressions, hair blows in the breeze and they even blink.<br /><br />Soul Calibur has always been known for it's interesting plots and characters and SCIII is no exception. Each character has his/her background story that is detailed and well done. My favorite character is Chai Xianghua. She's cute, she's funny and she's a strong female character. Yeah, I know she wears pink and has a boyfriend (who she ends up saving BTW), but there seems to be more to her than that. Xianghua, like all the other characters, have flaws and upsides to their personalities, so no character is perfect, not even the good guys.<br /><br />The music is beautifully composed for a fighting game series. It doesn't sound kitchy (the Vampire series) nor does it sound like old school porn film soundtrack (Mortal Kombat). The characters have their own themes and a lot of the themes are done to match the culture of that certain part of the world. I don't think there is a song on this soundtrack I don't like.<br /><br />Another cool thing about this game is to create your own anime-like character (Create a Soul). You could make him/her look as cute or as sexy or even ugly if you like. However, if you found a character customization that you like, remember to take notes, or else you won't remember how you created that character. I found myself being very addicted to CaS.<br /><br />Overall, I think Soul Calibur is my number one fighting game series of all time. It has everything I asked for. What more could I want?\",\n          \"Frankly, after Cotton club and Unfaithful, it was kind of embarrassing to watch Lane and Gere in this film, because it is BAD. The acting was bad, the dialogs were extremely shallow and insincere. It was well shot, but, then again, it is a big budget movie. It was too predictable, even for a chick flick. I even knew from the beginning that he was going to die in the end, the only thing I didn't know was how. Too politically correct. Very disappointing. The only thing really worth watching was the scenery and the house, because it is beautiful. But, if you want that, watch National geographic. I love Lane, but I've never seen her in a movie this lousy. As far as Gere goes, he's a good actor, but he had movies like this, so I'm not surprised. An hour and a half I wish I could bring back.\"\n        ],\n        \"semantic_type\": \"\",\n        \"description\": \"\"\n      }\n    },\n    {\n      \"column\": \"sentiment\",\n      \"properties\": {\n        \"dtype\": \"category\",\n        \"num_unique_values\": 2,\n        \"samples\": [\n          \"pos\",\n          \"neg\"\n        ],\n        \"semantic_type\": \"\",\n        \"description\": \"\"\n      }\n    }\n  ]\n}"
            }
          },
          "metadata": {},
          "execution_count": 8
        }
      ]
    },
    {
      "cell_type": "code",
      "source": [
        "from nltk.corpus import stopwords\n",
        "data['text']=data['text'].str.lower()\n",
        "sw = stopwords.words('english')\n",
        "data['text']=data['text'].apply(lambda x: ' '.join([word for word in x.split() if word not in (sw)]))"
      ],
      "metadata": {
        "id": "Dh0_4BabW6nE"
      },
      "execution_count": 9,
      "outputs": []
    },
    {
      "cell_type": "code",
      "source": [
        "from sklearn.feature_extraction.text import CountVectorizer\n",
        "from nltk.tokenize import RegexpTokenizer\n",
        "token = RegexpTokenizer(r'[a-zA-Z0-9]+')\n",
        "cv = CountVectorizer(ngram_range = (1,1),tokenizer = token.tokenize)\n",
        "text_counts = cv.fit_transform(data['text'])"
      ],
      "metadata": {
        "colab": {
          "base_uri": "https://localhost:8080/"
        },
        "id": "E0ELCuJ9XSby",
        "outputId": "a7b7c16f-62ba-4a2a-c739-9d8324373240"
      },
      "execution_count": 10,
      "outputs": [
        {
          "output_type": "stream",
          "name": "stderr",
          "text": [
            "/usr/local/lib/python3.10/dist-packages/sklearn/feature_extraction/text.py:528: UserWarning: The parameter 'token_pattern' will not be used since 'tokenizer' is not None'\n",
            "  warnings.warn(\n"
          ]
        }
      ]
    },
    {
      "cell_type": "code",
      "source": [
        "from sklearn.model_selection import train_test_split\n",
        "X=text_counts\n",
        "y=data['sentiment']\n",
        "X_train, X_test, y_train, y_test = train_test_split(X, y, test_size=0.20,random_state=30)"
      ],
      "metadata": {
        "id": "9AfKW3LxXpv2"
      },
      "execution_count": 11,
      "outputs": []
    },
    {
      "cell_type": "markdown",
      "source": [
        "**Fitting Multinomial Naive Bayes model**"
      ],
      "metadata": {
        "id": "1xRbONGBXyJW"
      }
    },
    {
      "cell_type": "code",
      "source": [
        "from sklearn.naive_bayes import MultinomialNB\n",
        "from sklearn.metrics import accuracy_score, classification_report, confusion_matrix\n",
        "MNB = MultinomialNB()\n",
        "MNB.fit(X_train, y_train)\n",
        "\n",
        "predicted = MNB.predict(X_test)\n",
        "accuracy_score = accuracy_score(predicted, y_test)\n",
        "\n",
        "print('MultinominalNB model accuracy is',str('{:04.2f}'.format(accuracy_score*100))+'%')"
      ],
      "metadata": {
        "colab": {
          "base_uri": "https://localhost:8080/"
        },
        "id": "OPsdQhJCXuL5",
        "outputId": "81801ea7-e6cf-4333-bab3-addac3b48205"
      },
      "execution_count": 12,
      "outputs": [
        {
          "output_type": "stream",
          "name": "stdout",
          "text": [
            "MultinominalNB model accuracy is 87.68%\n"
          ]
        }
      ]
    },
    {
      "cell_type": "markdown",
      "source": [
        "**Preprocessing for Neural Network models**"
      ],
      "metadata": {
        "id": "z3xfRWI1X8qq"
      }
    },
    {
      "cell_type": "code",
      "source": [
        "import tensorflow\n",
        "from tensorflow.keras.preprocessing.text import Tokenizer\n",
        "from tensorflow.keras.preprocessing.sequence import pad_sequences\n",
        "sentiment_label=data['sentiment'].factorize()\n",
        "review = data['text'].values\n",
        "tokenizer = Tokenizer(num_words=5000)\n",
        "tokenizer.fit_on_texts(review)\n",
        "vocab_size = len(tokenizer.word_index) + 1\n",
        "encoded_docs = tokenizer.texts_to_sequences(review)\n",
        "padded_sequence = pad_sequences(encoded_docs, maxlen=200)\n",
        "embedding_vector_length = 32"
      ],
      "metadata": {
        "id": "nr14Wf1mX5SG"
      },
      "execution_count": 13,
      "outputs": []
    },
    {
      "cell_type": "markdown",
      "source": [
        "**Fitting RNN model**"
      ],
      "metadata": {
        "id": "yq0xmYrZYHpv"
      }
    },
    {
      "cell_type": "code",
      "source": [
        "from tensorflow.keras.layers import SimpleRNN, Dense, Embedding, Dropout\n",
        "from tensorflow.keras.models import Sequential\n",
        "RNN_model=Sequential()\n",
        "RNN_model.add(Embedding(vocab_size, embedding_vector_length, input_length=200))\n",
        "RNN_model.add(SimpleRNN(128, activation='tanh',return_sequences=False))\n",
        "RNN_model.add(Dropout(0.2))\n",
        "RNN_model.add(Dense(1, activation='sigmoid'))\n",
        "RNN_model.compile(loss=\"binary_crossentropy\", optimizer='adam', metrics=['accuracy'])\n",
        "RNN_model.fit(padded_sequence,sentiment_label[0],batch_size=64,epochs=10,verbose=1,validation_split=0.2)"
      ],
      "metadata": {
        "colab": {
          "base_uri": "https://localhost:8080/"
        },
        "id": "KuGITkggX8Uw",
        "outputId": "94d296d7-c765-44f7-c071-84f8708303a1"
      },
      "execution_count": 14,
      "outputs": [
        {
          "output_type": "stream",
          "name": "stdout",
          "text": [
            "Epoch 1/10\n",
            "313/313 [==============================] - 48s 147ms/step - loss: 0.5754 - accuracy: 0.6723 - val_loss: 0.4532 - val_accuracy: 0.7964\n",
            "Epoch 2/10\n",
            "313/313 [==============================] - 47s 151ms/step - loss: 0.3269 - accuracy: 0.8633 - val_loss: 0.3610 - val_accuracy: 0.8560\n",
            "Epoch 3/10\n",
            "313/313 [==============================] - 49s 155ms/step - loss: 0.2960 - accuracy: 0.8826 - val_loss: 0.3499 - val_accuracy: 0.8570\n",
            "Epoch 4/10\n",
            "313/313 [==============================] - 51s 163ms/step - loss: 0.2738 - accuracy: 0.8931 - val_loss: 0.3440 - val_accuracy: 0.8658\n",
            "Epoch 5/10\n",
            "313/313 [==============================] - 47s 151ms/step - loss: 0.3177 - accuracy: 0.8652 - val_loss: 0.4584 - val_accuracy: 0.7900\n",
            "Epoch 6/10\n",
            "313/313 [==============================] - 46s 148ms/step - loss: 0.2895 - accuracy: 0.8824 - val_loss: 0.4342 - val_accuracy: 0.8200\n",
            "Epoch 7/10\n",
            "313/313 [==============================] - 47s 151ms/step - loss: 0.2484 - accuracy: 0.9016 - val_loss: 0.3843 - val_accuracy: 0.8568\n",
            "Epoch 8/10\n",
            "313/313 [==============================] - 48s 152ms/step - loss: 0.1892 - accuracy: 0.9305 - val_loss: 0.4486 - val_accuracy: 0.8532\n",
            "Epoch 9/10\n",
            "313/313 [==============================] - 46s 148ms/step - loss: 0.1306 - accuracy: 0.9535 - val_loss: 0.4752 - val_accuracy: 0.8158\n",
            "Epoch 10/10\n",
            "313/313 [==============================] - 46s 146ms/step - loss: 0.1047 - accuracy: 0.9637 - val_loss: 0.6077 - val_accuracy: 0.8430\n"
          ]
        },
        {
          "output_type": "execute_result",
          "data": {
            "text/plain": [
              "<keras.src.callbacks.History at 0x7c2be76c5660>"
            ]
          },
          "metadata": {},
          "execution_count": 14
        }
      ]
    },
    {
      "cell_type": "markdown",
      "source": [
        "**Fitting LSTM model**"
      ],
      "metadata": {
        "id": "je_VQU7xaEOe"
      }
    },
    {
      "cell_type": "code",
      "source": [
        "from tensorflow.keras.layers import LSTM\n",
        "LSTM_model=Sequential()\n",
        "LSTM_model.add(Embedding(vocab_size, embedding_vector_length, input_length=200) )\n",
        "LSTM_model.add(LSTM(50, dropout=0.5,recurrent_dropout=0.5 ,activation='tanh',return_sequences=False))\n",
        "LSTM_model.add(Dropout(0.2))\n",
        "LSTM_model.add(Dense(1, activation='sigmoid'))\n",
        "LSTM_model.compile(loss=\"binary_crossentropy\", optimizer='adam', metrics=['accuracy'])\n",
        "LSTM_model.fit(padded_sequence,sentiment_label[0],batch_size=64,epochs=5,verbose=1,validation_split=0.2)"
      ],
      "metadata": {
        "colab": {
          "base_uri": "https://localhost:8080/"
        },
        "id": "mwCow8eeYMnH",
        "outputId": "9fab7bec-d433-414b-9ab9-352d49c9535b"
      },
      "execution_count": 15,
      "outputs": [
        {
          "output_type": "stream",
          "name": "stdout",
          "text": [
            "Epoch 1/5\n",
            "313/313 [==============================] - 133s 411ms/step - loss: 0.4334 - accuracy: 0.7861 - val_loss: 0.2962 - val_accuracy: 0.8754\n",
            "Epoch 2/5\n",
            "313/313 [==============================] - 120s 384ms/step - loss: 0.2494 - accuracy: 0.9024 - val_loss: 0.2759 - val_accuracy: 0.8904\n",
            "Epoch 3/5\n",
            "313/313 [==============================] - 125s 397ms/step - loss: 0.2162 - accuracy: 0.9160 - val_loss: 0.2928 - val_accuracy: 0.8866\n",
            "Epoch 4/5\n",
            "313/313 [==============================] - 126s 404ms/step - loss: 0.1924 - accuracy: 0.9258 - val_loss: 0.3017 - val_accuracy: 0.8838\n",
            "Epoch 5/5\n",
            "313/313 [==============================] - 121s 385ms/step - loss: 0.1742 - accuracy: 0.9320 - val_loss: 0.3087 - val_accuracy: 0.8840\n"
          ]
        },
        {
          "output_type": "execute_result",
          "data": {
            "text/plain": [
              "<keras.src.callbacks.History at 0x7c2bd373fc10>"
            ]
          },
          "metadata": {},
          "execution_count": 15
        }
      ]
    },
    {
      "cell_type": "markdown",
      "source": [
        "**Making Predictions**"
      ],
      "metadata": {
        "id": "XGqvBt_oaRQI"
      }
    },
    {
      "cell_type": "code",
      "source": [
        "def predict_sentiment(text):\n",
        "    tw = tokenizer.texts_to_sequences([text])\n",
        "    tw = pad_sequences(tw,maxlen=200)\n",
        "    prediction = int(RNN_model.predict(tw).round().item())\n",
        "    print(\"RNN Model Predicted label: \", sentiment_label[1][prediction])\n",
        "    prediction = int(LSTM_model.predict(tw).round().item())\n",
        "    print(\"LSTM Model Predicted label: \", sentiment_label[1][prediction])\n",
        "\n",
        "import random\n",
        "random_text=data['text'][random.randint(0, 5000)]\n",
        "print(random_text)\n",
        "predict_sentiment(random_text)"
      ],
      "metadata": {
        "id": "-G-WKViuaSU1",
        "colab": {
          "base_uri": "https://localhost:8080/"
        },
        "outputId": "a763ec29-e02c-439c-db17-af554f58014b"
      },
      "execution_count": 16,
      "outputs": [
        {
          "output_type": "stream",
          "name": "stdout",
          "text": [
            "i've described film surprising... true many respects. subject material (black man wrongly accused), characters (people expect stereotypes often show uncharacteristic attitudes film), production...<br /><br />all factors make refreshingly unusual film, especially time (1949). possible spoilers sometimes cheesy dialogue occasional high moral stance.<br /><br />but, happen across planning watch film, might find like - staying middle night see happens.<br /><br />\n",
            "1/1 [==============================] - 0s 239ms/step\n",
            "RNN Model Predicted label:  pos\n",
            "1/1 [==============================] - 0s 294ms/step\n",
            "LSTM Model Predicted label:  pos\n"
          ]
        }
      ]
    }
  ]
}